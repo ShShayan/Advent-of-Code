{
 "cells": [
  {
   "cell_type": "code",
   "execution_count": 89,
   "source": [
    "import pandas as pd\r\n",
    "\r\n",
    "\r\n",
    "f = open('puzzle3.txt', 'r')\r\n",
    "data = f.read().split('\\n')\r\n",
    "data = pd.DataFrame(data)\r\n",
    "print(data)"
   ],
   "outputs": [
    {
     "output_type": "stream",
     "name": "stdout",
     "text": [
      "                0\n",
      "0    101001100010\n",
      "1    010100001011\n",
      "2    010010010101\n",
      "3    110100011010\n",
      "4    001100100001\n",
      "..            ...\n",
      "995  010011100111\n",
      "996  101001101100\n",
      "997  110100000111\n",
      "998  110001101111\n",
      "999  010100000111\n",
      "\n",
      "[1000 rows x 1 columns]\n"
     ]
    }
   ],
   "metadata": {}
  },
  {
   "cell_type": "code",
   "execution_count": 90,
   "source": [
    "def gammaYab(data):\r\n",
    "    ragham = len(data.iloc[0][0])\r\n",
    "    tedad = len(data)\r\n",
    "    gamma = 0\r\n",
    "    for i in range(ragham):\r\n",
    "        temp = 0\r\n",
    "        for n in range(tedad):\r\n",
    "            temp = temp + int(data.iloc[n][0][i])\r\n",
    "        if temp > 500:\r\n",
    "            gamma = gamma + 10 ** (ragham - i - 1)\r\n",
    "    return gamma\r\n",
    "\r\n",
    "gamma = gammaYab(data)\r\n",
    "gamma"
   ],
   "outputs": [
    {
     "output_type": "execute_result",
     "data": {
      "text/plain": [
       "10111110"
      ]
     },
     "metadata": {},
     "execution_count": 90
    }
   ],
   "metadata": {}
  },
  {
   "cell_type": "code",
   "execution_count": 91,
   "source": [
    "def epsilonYab(gamma, ragham):\r\n",
    "    adad = 0\r\n",
    "    for i in range(ragham):\r\n",
    "        adad += 10 ** i\r\n",
    "    epsilon = adad - gamma\r\n",
    "    return epsilon\r\n",
    "\r\n",
    "epsilon = epsilonYab(gamma, 12)\r\n",
    "epsilon"
   ],
   "outputs": [
    {
     "output_type": "execute_result",
     "data": {
      "text/plain": [
       "111101000001"
      ]
     },
     "metadata": {},
     "execution_count": 91
    }
   ],
   "metadata": {}
  },
  {
   "cell_type": "code",
   "execution_count": 92,
   "source": [
    "def fuel(x, y):\r\n",
    "    x = int(str(x),2)\r\n",
    "    y = int(str(y),2)\r\n",
    "    return x * y\r\n",
    "\r\n",
    "fuel(epsilon, gamma)"
   ],
   "outputs": [
    {
     "output_type": "execute_result",
     "data": {
      "text/plain": [
       "741950"
      ]
     },
     "metadata": {},
     "execution_count": 92
    }
   ],
   "metadata": {}
  },
  {
   "cell_type": "code",
   "execution_count": 141,
   "source": [
    "from copy import deepcopy\r\n",
    "\r\n",
    "def tedadShomar(data, jaygah):\r\n",
    "    temp = deepcopy(data)\r\n",
    "    tedad = len(temp)\r\n",
    "    tedadyek = 0\r\n",
    "    for n in range(tedad):\r\n",
    "        tedadyek = tedadyek + int(temp.iloc[n][0][jaygah])\r\n",
    "    return tedadyek\r\n",
    "\r\n",
    "def tedadShomarlist(data, jaygah):\r\n",
    "    temp = deepcopy(data)\r\n",
    "    tedad = len(temp)\r\n",
    "    tedadyek = 0\r\n",
    "    for n in range(tedad):\r\n",
    "        tedadyek = tedadyek + int(temp[n][jaygah])\r\n",
    "    return tedadyek\r\n",
    "\r\n",
    "listOxy = []\r\n",
    "listCo = []\r\n",
    "\r\n",
    "tedad = len(data)\r\n",
    "tedadyek = tedadShomar(data, 0)\r\n",
    "if tedadyek >= 500:\r\n",
    "    for n in range(tedad):\r\n",
    "        if data.iloc[n][0][0] == '1':\r\n",
    "            listOxy.append(data.iloc[n][0])\r\n",
    "        else: listCo.append(data.iloc[n][0])\r\n",
    "elif tedadyek < 500:\r\n",
    "    for n in range(tedad):\r\n",
    "        if data.iloc[n][0][0] == '0':\r\n",
    "            listOxy.append(data.iloc[n][0])\r\n",
    "        else: listCo.append(data.iloc[n][0])\r\n",
    "\r\n",
    "for i in range(11):\r\n",
    "    tedadyek = tedadShomarlist(listOxy, i + 1)\r\n",
    "    if len(listOxy) == 1:\r\n",
    "        break\r\n",
    "    x = 0\r\n",
    "    if tedadyek >= len(listOxy) / 2:\r\n",
    "        for n in range(len(listOxy)):\r\n",
    "            if listOxy[n - x][i + 1] == '0':\r\n",
    "                listOxy.pop(n - x)\r\n",
    "                x += 1\r\n",
    "    else:\r\n",
    "        for n in range(len(listOxy)):\r\n",
    "            if listOxy[n - x][i + 1] == '1':\r\n",
    "                listOxy.pop(n - x)\r\n",
    "                x += 1\r\n",
    "\r\n",
    "for i in range(11):\r\n",
    "    tedadyek = tedadShomarlist(listCo, i + 1)\r\n",
    "    if len(listCo) == 1:\r\n",
    "        break\r\n",
    "    x = 0\r\n",
    "    if tedadyek < len(listCo) / 2:\r\n",
    "        for n in range(len(listCo)):\r\n",
    "            if listCo[n - x][i + 1] == '0':\r\n",
    "                listCo.pop(n - x)\r\n",
    "                x += 1\r\n",
    "    else:\r\n",
    "        for n in range(len(listCo)):\r\n",
    "            if listCo[n - x][i + 1] == '1':\r\n",
    "                listCo.pop(n - x)\r\n",
    "                x += 1\r\n",
    "\r\n",
    "print(listOxy)\r\n",
    "listCo"
   ],
   "outputs": [
    {
     "output_type": "stream",
     "name": "stdout",
     "text": [
      "['000100011010']\n"
     ]
    },
    {
     "output_type": "execute_result",
     "data": {
      "text/plain": [
       "['110010000101']"
      ]
     },
     "metadata": {},
     "execution_count": 141
    }
   ],
   "metadata": {}
  },
  {
   "cell_type": "code",
   "execution_count": 142,
   "source": [
    "int(listOxy[0],2) * int(listCo[0],2)"
   ],
   "outputs": [
    {
     "output_type": "execute_result",
     "data": {
      "text/plain": [
       "903810"
      ]
     },
     "metadata": {},
     "execution_count": 142
    }
   ],
   "metadata": {}
  },
  {
   "cell_type": "code",
   "execution_count": null,
   "source": [],
   "outputs": [],
   "metadata": {}
  }
 ],
 "metadata": {
  "orig_nbformat": 4,
  "language_info": {
   "name": "python",
   "version": "3.7.10",
   "mimetype": "text/x-python",
   "codemirror_mode": {
    "name": "ipython",
    "version": 3
   },
   "pygments_lexer": "ipython3",
   "nbconvert_exporter": "python",
   "file_extension": ".py"
  },
  "kernelspec": {
   "name": "python3",
   "display_name": "Python 3.7.10 64-bit ('myenv': conda)"
  },
  "interpreter": {
   "hash": "4a9077a3e237a214954585ce85ef359eb03ce3e0c573058c246890226691716c"
  }
 },
 "nbformat": 4,
 "nbformat_minor": 2
}