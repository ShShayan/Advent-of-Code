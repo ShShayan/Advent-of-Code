{
 "cells": [
  {
   "cell_type": "code",
   "execution_count": 1,
   "metadata": {},
   "outputs": [
    {
     "name": "stdout",
     "output_type": "stream",
     "text": [
      "                0\n",
      "0    101001100010\n",
      "1    010100001011\n",
      "2    010010010101\n",
      "3    110100011010\n",
      "4    001100100001\n",
      "..            ...\n",
      "995  010011100111\n",
      "996  101001101100\n",
      "997  110100000111\n",
      "998  110001101111\n",
      "999  010100000111\n",
      "\n",
      "[1000 rows x 1 columns]\n"
     ]
    }
   ],
   "source": [
    "import pandas as pd\n",
    "\n",
    "\n",
    "f = open('data/puzzle3.txt', 'r')\n",
    "data = f.read().split('\\n')\n",
    "data = pd.DataFrame(data)\n",
    "print(data)"
   ]
  },
  {
   "cell_type": "code",
   "execution_count": 2,
   "metadata": {},
   "outputs": [
    {
     "data": {
      "text/plain": [
       "10111110"
      ]
     },
     "execution_count": 2,
     "metadata": {},
     "output_type": "execute_result"
    }
   ],
   "source": [
    "def gammaYab(data):\n",
    "    ragham = len(data.iloc[0][0])\n",
    "    tedad = len(data)\n",
    "    gamma = 0\n",
    "    for i in range(ragham):\n",
    "        temp = 0\n",
    "        for n in range(tedad):\n",
    "            temp = temp + int(data.iloc[n][0][i])\n",
    "        if temp > 500:\n",
    "            gamma = gamma + 10 ** (ragham - i - 1)\n",
    "    return gamma\n",
    "\n",
    "gamma = gammaYab(data)\n",
    "gamma"
   ]
  },
  {
   "cell_type": "code",
   "execution_count": 3,
   "metadata": {},
   "outputs": [
    {
     "data": {
      "text/plain": [
       "111101000001"
      ]
     },
     "execution_count": 3,
     "metadata": {},
     "output_type": "execute_result"
    }
   ],
   "source": [
    "def epsilonYab(gamma, ragham):\n",
    "    adad = 0\n",
    "    for i in range(ragham):\n",
    "        adad += 10 ** i\n",
    "    epsilon = adad - gamma\n",
    "    return epsilon\n",
    "\n",
    "epsilon = epsilonYab(gamma, 12)\n",
    "epsilon"
   ]
  },
  {
   "cell_type": "code",
   "execution_count": 4,
   "metadata": {},
   "outputs": [
    {
     "data": {
      "text/plain": [
       "741950"
      ]
     },
     "execution_count": 4,
     "metadata": {},
     "output_type": "execute_result"
    }
   ],
   "source": [
    "def fuel(x, y):\n",
    "    x = int(str(x),2)\n",
    "    y = int(str(y),2)\n",
    "    return x * y\n",
    "\n",
    "fuel(epsilon, gamma)"
   ]
  },
  {
   "cell_type": "code",
   "execution_count": 5,
   "metadata": {},
   "outputs": [
    {
     "name": "stdout",
     "output_type": "stream",
     "text": [
      "['000100011010']\n"
     ]
    },
    {
     "data": {
      "text/plain": [
       "['110010000101']"
      ]
     },
     "execution_count": 5,
     "metadata": {},
     "output_type": "execute_result"
    }
   ],
   "source": [
    "from copy import deepcopy\n",
    "\n",
    "def tedadShomar(data, jaygah):\n",
    "    temp = deepcopy(data)\n",
    "    tedad = len(temp)\n",
    "    tedadyek = 0\n",
    "    for n in range(tedad):\n",
    "        tedadyek = tedadyek + int(temp.iloc[n][0][jaygah])\n",
    "    return tedadyek\n",
    "\n",
    "def tedadShomarlist(data, jaygah):\n",
    "    temp = deepcopy(data)\n",
    "    tedad = len(temp)\n",
    "    tedadyek = 0\n",
    "    for n in range(tedad):\n",
    "        tedadyek = tedadyek + int(temp[n][jaygah])\n",
    "    return tedadyek\n",
    "\n",
    "listOxy = []\n",
    "listCo = []\n",
    "\n",
    "tedad = len(data)\n",
    "tedadyek = tedadShomar(data, 0)\n",
    "if tedadyek >= 500:\n",
    "    for n in range(tedad):\n",
    "        if data.iloc[n][0][0] == '1':\n",
    "            listOxy.append(data.iloc[n][0])\n",
    "        else: listCo.append(data.iloc[n][0])\n",
    "elif tedadyek < 500:\n",
    "    for n in range(tedad):\n",
    "        if data.iloc[n][0][0] == '0':\n",
    "            listOxy.append(data.iloc[n][0])\n",
    "        else: listCo.append(data.iloc[n][0])\n",
    "\n",
    "for i in range(11):\n",
    "    tedadyek = tedadShomarlist(listOxy, i + 1)\n",
    "    if len(listOxy) == 1:\n",
    "        break\n",
    "    x = 0\n",
    "    if tedadyek >= len(listOxy) / 2:\n",
    "        for n in range(len(listOxy)):\n",
    "            if listOxy[n - x][i + 1] == '0':\n",
    "                listOxy.pop(n - x)\n",
    "                x += 1\n",
    "    else:\n",
    "        for n in range(len(listOxy)):\n",
    "            if listOxy[n - x][i + 1] == '1':\n",
    "                listOxy.pop(n - x)\n",
    "                x += 1\n",
    "\n",
    "for i in range(11):\n",
    "    tedadyek = tedadShomarlist(listCo, i + 1)\n",
    "    if len(listCo) == 1:\n",
    "        break\n",
    "    x = 0\n",
    "    if tedadyek < len(listCo) / 2:\n",
    "        for n in range(len(listCo)):\n",
    "            if listCo[n - x][i + 1] == '0':\n",
    "                listCo.pop(n - x)\n",
    "                x += 1\n",
    "    else:\n",
    "        for n in range(len(listCo)):\n",
    "            if listCo[n - x][i + 1] == '1':\n",
    "                listCo.pop(n - x)\n",
    "                x += 1\n",
    "\n",
    "print(listOxy)\n",
    "listCo"
   ]
  },
  {
   "cell_type": "code",
   "execution_count": 6,
   "metadata": {},
   "outputs": [
    {
     "data": {
      "text/plain": [
       "903810"
      ]
     },
     "execution_count": 6,
     "metadata": {},
     "output_type": "execute_result"
    }
   ],
   "source": [
    "int(listOxy[0],2) * int(listCo[0],2)"
   ]
  },
  {
   "cell_type": "code",
   "execution_count": null,
   "metadata": {},
   "outputs": [],
   "source": []
  }
 ],
 "metadata": {
  "interpreter": {
   "hash": "4a9077a3e237a214954585ce85ef359eb03ce3e0c573058c246890226691716c"
  },
  "kernelspec": {
   "display_name": "Python 3.7.10 64-bit ('myenv': conda)",
   "name": "python3"
  },
  "language_info": {
   "codemirror_mode": {
    "name": "ipython",
    "version": 3
   },
   "file_extension": ".py",
   "mimetype": "text/x-python",
   "name": "python",
   "nbconvert_exporter": "python",
   "pygments_lexer": "ipython3",
   "version": "3.7.10"
  },
  "orig_nbformat": 4
 },
 "nbformat": 4,
 "nbformat_minor": 2
}
